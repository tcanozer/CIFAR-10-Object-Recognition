{
  "nbformat": 4,
  "nbformat_minor": 0,
  "metadata": {
    "colab": {
      "provenance": []
    },
    "kernelspec": {
      "name": "python3",
      "display_name": "Python 3"
    },
    "language_info": {
      "name": "python"
    },
    "accelerator": "GPU",
    "gpuClass": "standard"
  },
  "cells": [
    {
      "cell_type": "code",
      "execution_count": null,
      "metadata": {
        "id": "gP9KX0jF0i_6"
      },
      "outputs": [],
      "source": [
        "import numpy as np\n",
        "import matplotlib.pyplot as plt\n",
        "%matplotlib inline\n",
        "import keras\n",
        "import tensorflow as tf\n",
        "\n",
        "from tensorflow import keras\n",
        "from keras.models import Sequential\n",
        "from tensorflow.keras.layers import Input, Conv2D, Dense, Flatten, Dropout\n",
        "from tensorflow.keras.layers import GlobalMaxPooling2D, MaxPooling2D\n",
        "from tensorflow.keras.layers import BatchNormalization\n",
        "from tensorflow.keras.models import Model\n",
        "from tensorflow.keras import regularizers, optimizers\n",
        "from tensorflow.keras.utils import to_categorical\n",
        "from sklearn.metrics import accuracy_score\n",
        "\n",
        "import warnings\n",
        "warnings.filterwarnings('ignore')\n",
        "\n",
        "print(\"Tensorflow version:\",tf.__version__)\n",
        "print(\"Keras version:\",keras.__version__)"
      ]
    },
    {
      "cell_type": "code",
      "source": [
        "from tensorflow.keras.datasets import cifar10\n",
        "(trainX, trainY), (testX, testY) = cifar10.load_data()"
      ],
      "metadata": {
        "id": "aWxmFIeM0qsd"
      },
      "execution_count": null,
      "outputs": []
    },
    {
      "cell_type": "code",
      "source": [
        "# Normalizasyon\n",
        "trainX = trainX/255\n",
        "testX = testX/255\n",
        "# One-Hot-Encoding\n",
        "trainY_en = to_categorical(trainY,10)\n",
        "testY_en = to_categorical(testY,10)"
      ],
      "metadata": {
        "id": "99kjXBpH1EmC"
      },
      "execution_count": null,
      "outputs": []
    },
    {
      "cell_type": "code",
      "source": [
        "# cifar10 dataseti icin labellar\n",
        "labels = np.array([\n",
        "    'airplane',\n",
        "    'automobile',\n",
        "    'bird',\n",
        "    'cat',\n",
        "    'deer',\n",
        "    'dog',\n",
        "    'frog',\n",
        "    'horse',\n",
        "    'ship',\n",
        "    'truck'])"
      ],
      "metadata": {
        "id": "4o2dNkHK1Gia"
      },
      "execution_count": null,
      "outputs": []
    },
    {
      "cell_type": "code",
      "source": [
        "# Convulition Layer : 3\n",
        "# Filter Number per Layer : 32\n",
        "# Filter Size : 3x3\n",
        "def model_3_32_3x3():\n",
        "  model = Sequential()\n",
        "  model.add(Conv2D(32,(3,3),input_shape=(32,32,3),activation='relu', padding='same'))\n",
        "  model.add(MaxPooling2D(pool_size=(2,2)))\n",
        "  model.add(Dropout(0.2))\n",
        "  model.add(Conv2D(32,(3,3),input_shape=(32,32,3),activation='relu', padding='same'))\n",
        "  model.add(MaxPooling2D(pool_size=(2,2)))\n",
        "  model.add(Dropout(0.2))\n",
        "  model.add(Conv2D(32,(3,3),input_shape=(32,32,3),activation='relu', padding='same'))\n",
        "  model.add(MaxPooling2D(pool_size=(2,2)))\n",
        "  model.add(Dropout(0.2))\n",
        "  model.add(Flatten())\n",
        "  model.add(Dense(128,activation='relu'))\n",
        "  model.add(Dense(10,activation='softmax')) #10 sinif icin\n",
        "  model.compile(loss='categorical_crossentropy',optimizer='adam',metrics=['accuracy'])\n",
        "\n",
        "  model.summary()\n",
        "  with tf.device('/device:GPU:0'):\n",
        "    history = model.fit(trainX, trainY_en, epochs = 100,batch_size=64, verbose=1,validation_data=(testX,testY_en))\n",
        "\n",
        "  return model"
      ],
      "metadata": {
        "id": "D0x4df6c1HF1"
      },
      "execution_count": null,
      "outputs": []
    },
    {
      "cell_type": "code",
      "source": [
        "# Convulition Layer : 3\n",
        "# Filter Number per Layer : 32\n",
        "# Filter Size : 5x5\n",
        "def model_3_32_5x5():\n",
        "  model = Sequential()\n",
        "  model.add(Conv2D(32,(5,5),input_shape=(32,32,3),activation='relu', padding='same'))\n",
        "  model.add(MaxPooling2D(pool_size=(2,2)))\n",
        "  model.add(Dropout(0.2))\n",
        "  model.add(Conv2D(32,(5,5),input_shape=(32,32,3),activation='relu', padding='same'))\n",
        "  model.add(MaxPooling2D(pool_size=(2,2)))\n",
        "  model.add(Dropout(0.2))\n",
        "  model.add(Conv2D(32,(5,5),input_shape=(32,32,3),activation='relu', padding='same'))\n",
        "  model.add(MaxPooling2D(pool_size=(2,2)))\n",
        "  model.add(Dropout(0.2))\n",
        "  model.add(Flatten())\n",
        "  model.add(Dense(128,activation='relu'))\n",
        "  model.add(Dense(10,activation='softmax')) #10 sinif icin\n",
        "  model.compile(loss='categorical_crossentropy',optimizer='adam',metrics=['accuracy'])\n",
        "\n",
        "  model.summary()\n",
        "  with tf.device('/device:GPU:0'):\n",
        "    history = model.fit(trainX, trainY_en, epochs = 100,batch_size=64, verbose=1,validation_data=(testX,testY_en))\n",
        "\n",
        "  return model"
      ],
      "metadata": {
        "id": "o37X7v-t-J9f"
      },
      "execution_count": null,
      "outputs": []
    },
    {
      "cell_type": "code",
      "source": [
        "# Convulition Layer : 3\n",
        "# Filter Number per Layer : 64\n",
        "# Filter Size : 3x3\n",
        "def model_3_64_3x3():\n",
        "  model = Sequential()\n",
        "  model.add(Conv2D(64,(3,3),input_shape=(32,32,3),activation='relu', padding='same'))\n",
        "  model.add(MaxPooling2D(pool_size=(2,2)))\n",
        "  model.add(Dropout(0.2))\n",
        "  model.add(Conv2D(64,(3,3),input_shape=(32,32,3),activation='relu', padding='same'))\n",
        "  model.add(MaxPooling2D(pool_size=(2,2)))\n",
        "  model.add(Dropout(0.2))\n",
        "  model.add(Conv2D(64,(3,3),input_shape=(32,32,3),activation='relu', padding='same'))\n",
        "  model.add(MaxPooling2D(pool_size=(2,2)))\n",
        "  model.add(Dropout(0.2))\n",
        "  model.add(Flatten())\n",
        "  model.add(Dense(128,activation='relu'))\n",
        "  model.add(Dense(10,activation='softmax')) #10 sinif icin\n",
        "  model.compile(loss='categorical_crossentropy',optimizer='adam',metrics=['accuracy'])\n",
        "\n",
        "  model.summary()\n",
        "  with tf.device('/device:GPU:0'):\n",
        "    history = model.fit(trainX, trainY_en, epochs = 100,batch_size=64, verbose=1,validation_data=(testX,testY_en))\n",
        "\n",
        "  return model"
      ],
      "metadata": {
        "id": "JJU9pCE2-KUU"
      },
      "execution_count": null,
      "outputs": []
    },
    {
      "cell_type": "code",
      "source": [
        "# Convulition Layer : 3\n",
        "# Filter Number per Layer : 64\n",
        "# Filter Size : 5x5\n",
        "def model_3_64_5x5():\n",
        "  model = Sequential()\n",
        "  model.add(Conv2D(64,(5,5),input_shape=(32,32,3),activation='relu', padding='same'))\n",
        "  model.add(MaxPooling2D(pool_size=(2,2)))\n",
        "  model.add(Dropout(0.2))\n",
        "  model.add(Conv2D(64,(5,5),input_shape=(32,32,3),activation='relu', padding='same'))\n",
        "  model.add(MaxPooling2D(pool_size=(2,2)))\n",
        "  model.add(Dropout(0.2))\n",
        "  model.add(Conv2D(64,(5,5),input_shape=(32,32,3),activation='relu', padding='same'))\n",
        "  model.add(MaxPooling2D(pool_size=(2,2)))\n",
        "  model.add(Dropout(0.2))\n",
        "  model.add(Flatten())\n",
        "  model.add(Dense(128,activation='relu'))\n",
        "  model.add(Dense(10,activation='softmax')) #10 sinif icin\n",
        "  model.compile(loss='categorical_crossentropy',optimizer='adam',metrics=['accuracy'])\n",
        "\n",
        "  model.summary()\n",
        "  with tf.device('/device:GPU:0'):\n",
        "    history = model.fit(trainX, trainY_en, epochs = 100,batch_size=64, verbose=1,validation_data=(testX,testY_en))\n",
        "\n",
        "  return model"
      ],
      "metadata": {
        "id": "3YIznN8i-Kdp"
      },
      "execution_count": null,
      "outputs": []
    },
    {
      "cell_type": "code",
      "source": [
        "# Convulition Layer : 5\n",
        "# Filter Number per Layer : 32\n",
        "# Filter Size : 3x3\n",
        "def model_5_32_3x3():\n",
        "  model = Sequential()\n",
        "  model.add(Conv2D(32,(3,3),input_shape=(32,32,3),activation='relu', padding='same'))\n",
        "  model.add(MaxPooling2D(pool_size=(2,2)))\n",
        "  model.add(Dropout(0.2))\n",
        "  model.add(Conv2D(32,(3,3),input_shape=(32,32,3),activation='relu', padding='same'))\n",
        "  model.add(MaxPooling2D(pool_size=(2,2)))\n",
        "  model.add(Dropout(0.2))\n",
        "  model.add(Conv2D(32,(3,3),input_shape=(32,32,3),activation='relu', padding='same'))\n",
        "  model.add(MaxPooling2D(pool_size=(2,2)))\n",
        "  model.add(Dropout(0.2))\n",
        "  model.add(Conv2D(32,(3,3),input_shape=(32,32,3),activation='relu', padding='same'))\n",
        "  model.add(MaxPooling2D(pool_size=(2,2)))\n",
        "  model.add(Dropout(0.2))\n",
        "  model.add(Conv2D(32,(3,3),input_shape=(32,32,3),activation='relu', padding='same'))\n",
        "  model.add(MaxPooling2D(pool_size=(2,2)))\n",
        "  model.add(Dropout(0.2))\n",
        "  model.add(Flatten())\n",
        "  model.add(Dense(128,activation='relu'))\n",
        "  model.add(Dense(10,activation='softmax')) #10 sinif icin\n",
        "  model.compile(loss='categorical_crossentropy',optimizer='adam',metrics=['accuracy'])\n",
        "\n",
        "  model.summary()\n",
        "  with tf.device('/device:GPU:0'):\n",
        "    history = model.fit(trainX, trainY_en, epochs = 100,batch_size=64, verbose=1,validation_data=(testX,testY_en))\n",
        "\n",
        "  return model"
      ],
      "metadata": {
        "id": "S-VyHxHy-KgM"
      },
      "execution_count": null,
      "outputs": []
    },
    {
      "cell_type": "code",
      "source": [
        "# Convulition Layer : 5\n",
        "# Filter Number per Layer : 32\n",
        "# Filter Size : 5x5\n",
        "def model_5_32_5x5():\n",
        "  model = Sequential()\n",
        "  model.add(Conv2D(32,(5,5),input_shape=(32,32,3),activation='relu', padding='same'))\n",
        "  model.add(MaxPooling2D(pool_size=(2,2)))\n",
        "  model.add(Dropout(0.2))\n",
        "  model.add(Conv2D(32,(5,5),input_shape=(32,32,3),activation='relu', padding='same'))\n",
        "  model.add(MaxPooling2D(pool_size=(2,2)))\n",
        "  model.add(Dropout(0.2))\n",
        "  model.add(Conv2D(32,(5,5),input_shape=(32,32,3),activation='relu', padding='same'))\n",
        "  model.add(MaxPooling2D(pool_size=(2,2)))\n",
        "  model.add(Dropout(0.2))\n",
        "  model.add(Conv2D(32,(5,5),input_shape=(32,32,3),activation='relu', padding='same'))\n",
        "  model.add(MaxPooling2D(pool_size=(2,2)))\n",
        "  model.add(Dropout(0.2))\n",
        "  model.add(Conv2D(32,(5,5),input_shape=(32,32,3),activation='relu', padding='same'))\n",
        "  model.add(MaxPooling2D(pool_size=(2,2)))\n",
        "  model.add(Dropout(0.2))\n",
        "  model.add(Flatten())\n",
        "  model.add(Dense(128,activation='relu'))\n",
        "  model.add(Dense(10,activation='softmax')) #10 sinif icin\n",
        "  model.compile(loss='categorical_crossentropy',optimizer='adam',metrics=['accuracy'])\n",
        "\n",
        "  model.summary()\n",
        "  with tf.device('/device:GPU:0'):\n",
        "    history = model.fit(trainX, trainY_en, epochs = 100,batch_size=64, verbose=1,validation_data=(testX,testY_en))\n",
        "\n",
        "  return model"
      ],
      "metadata": {
        "id": "F99V8-mI-Kin"
      },
      "execution_count": null,
      "outputs": []
    },
    {
      "cell_type": "code",
      "source": [
        "# Convulition Layer : 5\n",
        "# Filter Number per Layer : 64\n",
        "# Filter Size : 3x3\n",
        "def model_5_64_3x3():\n",
        "  model = Sequential()\n",
        "  model.add(Conv2D(64,(3,3),input_shape=(32,32,3),activation='relu', padding='same'))\n",
        "  model.add(MaxPooling2D(pool_size=(2,2)))\n",
        "  model.add(Dropout(0.2))\n",
        "  model.add(Conv2D(64,(3,3),input_shape=(32,32,3),activation='relu', padding='same'))\n",
        "  model.add(MaxPooling2D(pool_size=(2,2)))\n",
        "  model.add(Dropout(0.2))\n",
        "  model.add(Conv2D(64,(3,3),input_shape=(32,32,3),activation='relu', padding='same'))\n",
        "  model.add(MaxPooling2D(pool_size=(2,2)))\n",
        "  model.add(Dropout(0.2))\n",
        "  model.add(Conv2D(64,(3,3),input_shape=(32,32,3),activation='relu', padding='same'))\n",
        "  model.add(MaxPooling2D(pool_size=(2,2)))\n",
        "  model.add(Dropout(0.2))\n",
        "  model.add(Conv2D(64,(3,3),input_shape=(32,32,3),activation='relu', padding='same'))\n",
        "  model.add(MaxPooling2D(pool_size=(2,2)))\n",
        "  model.add(Dropout(0.2))\n",
        "  model.add(Flatten())\n",
        "  model.add(Dense(128,activation='relu'))\n",
        "  model.add(Dense(10,activation='softmax')) #10 sinif icin\n",
        "  model.compile(loss='categorical_crossentropy',optimizer='adam',metrics=['accuracy'])\n",
        "\n",
        "  model.summary()\n",
        "  with tf.device('/device:GPU:0'):\n",
        "    history = model.fit(trainX, trainY_en, epochs = 100,batch_size=64, verbose=1,validation_data=(testX,testY_en))\n",
        "\n",
        "  return model"
      ],
      "metadata": {
        "id": "axJH52VS-Kle"
      },
      "execution_count": null,
      "outputs": []
    },
    {
      "cell_type": "code",
      "source": [
        "# Convulition Layer : 5\n",
        "# Filter Number per Layer : 64\n",
        "# Filter Size : 5x5\n",
        "def model_5_64_5x5():\n",
        "  model = Sequential()\n",
        "  model.add(Conv2D(64,(5,5),input_shape=(32,32,3),activation='relu', padding='same'))\n",
        "  model.add(MaxPooling2D(pool_size=(2,2)))\n",
        "  model.add(Dropout(0.2))\n",
        "  model.add(Conv2D(64,(5,5),input_shape=(32,32,3),activation='relu', padding='same'))\n",
        "  model.add(MaxPooling2D(pool_size=(2,2)))\n",
        "  model.add(Dropout(0.2))\n",
        "  model.add(Conv2D(64,(5,5),input_shape=(32,32,3),activation='relu', padding='same'))\n",
        "  model.add(MaxPooling2D(pool_size=(2,2)))\n",
        "  model.add(Dropout(0.2))\n",
        "  model.add(Conv2D(64,(5,5),input_shape=(32,32,3),activation='relu', padding='same'))\n",
        "  model.add(MaxPooling2D(pool_size=(2,2)))\n",
        "  model.add(Dropout(0.2))\n",
        "  model.add(Conv2D(64,(5,5),input_shape=(32,32,3),activation='relu', padding='same'))\n",
        "  model.add(MaxPooling2D(pool_size=(2,2)))\n",
        "  model.add(Dropout(0.2))\n",
        "  model.add(Flatten())\n",
        "  model.add(Dense(128,activation='relu'))\n",
        "  model.add(Dense(10,activation='softmax')) #10 sinif icin\n",
        "  model.compile(loss='categorical_crossentropy',optimizer='adam',metrics=['accuracy'])\n",
        "\n",
        "  model.summary()\n",
        "  with tf.device('/device:GPU:0'):\n",
        "    history = model.fit(trainX, trainY_en, epochs = 100,batch_size=100, verbose=1,validation_data=(testX,testY_en))\n",
        "\n",
        "  return model"
      ],
      "metadata": {
        "id": "oUO8Z_w--K1V"
      },
      "execution_count": null,
      "outputs": []
    },
    {
      "cell_type": "code",
      "source": [
        "#olusturdugumuz model metotlarini cagirip train ediyoruz\n",
        "model = model_3_32_3x3()\n",
        "model.save('model_3_32_3x3.h5')"
      ],
      "metadata": {
        "id": "Z0c9gfo3lpXw"
      },
      "execution_count": null,
      "outputs": []
    },
    {
      "cell_type": "code",
      "source": [
        "model = model_3_32_5x5()\n",
        "model.save('model_3_32_5x5.h5')"
      ],
      "metadata": {
        "id": "24CJAcZG_rpP"
      },
      "execution_count": null,
      "outputs": []
    },
    {
      "cell_type": "code",
      "source": [
        "model = model_3_64_3x3()\n",
        "model.save('model_3_64_3x3.h5')"
      ],
      "metadata": {
        "id": "yVWdluOL_r8z"
      },
      "execution_count": null,
      "outputs": []
    },
    {
      "cell_type": "code",
      "source": [
        "model = model_3_64_5x5()\n",
        "model.save('model_3_64_5x5.h5')"
      ],
      "metadata": {
        "id": "kfLQKcMx_r_Z"
      },
      "execution_count": null,
      "outputs": []
    },
    {
      "cell_type": "code",
      "source": [
        "model = model_5_32_3x3()\n",
        "model.save('model_5_32_3x3.h5')"
      ],
      "metadata": {
        "id": "rk0p8eyV_uxD"
      },
      "execution_count": null,
      "outputs": []
    },
    {
      "cell_type": "code",
      "source": [
        "model = model_5_32_5x5()\n",
        "model.save('model_3_32_5x5.h5')"
      ],
      "metadata": {
        "id": "Qa4u2pqE_sCD"
      },
      "execution_count": null,
      "outputs": []
    },
    {
      "cell_type": "code",
      "source": [
        "model = model_5_64_3x3()\n",
        "model.save('model_5_64_3x3.h5')"
      ],
      "metadata": {
        "id": "nZBzeoy5_sET"
      },
      "execution_count": null,
      "outputs": []
    },
    {
      "cell_type": "code",
      "source": [
        "model = model_5_64_5x5()\n",
        "model.save('model_5_64_5x5.h5')"
      ],
      "metadata": {
        "id": "L_GA5Jn-_sHq"
      },
      "execution_count": null,
      "outputs": []
    },
    {
      "cell_type": "code",
      "source": [
        "#tum testX datasetinin siniflandirma sonucu confusion matrix \n",
        "\n",
        "from keras.saving.save import load_model\n",
        "\n",
        "model = load_model('/content/model_5_64_3x3.h5')\n",
        "\n",
        "predictions  = model.predict(testX)\n",
        "\n",
        "predictions_for_cm = predictions.argmax(1)\n",
        "\n",
        "from sklearn.metrics import confusion_matrix\n",
        "import seaborn as sns\n",
        "class_names = [\"airplane\",\"automobile\",\"bird\",\"cat\",\"deer\",\"dog\",\"frog\",\"horse\",\"ship\",\"truck\"]\n",
        "\n",
        "cm = confusion_matrix(testY,predictions_for_cm)\n",
        "plt.figure(figsize=(11,11))\n",
        "sns.heatmap(cm, annot=True,  xticklabels=class_names, yticklabels = class_names, cmap=plt.cm.Blues)"
      ],
      "metadata": {
        "id": "OE2q33w3aCeL"
      },
      "execution_count": null,
      "outputs": []
    },
    {
      "cell_type": "code",
      "source": [
        "#en basarili modeli tekrar yukluyoruz\n",
        "#sonrada testX veriseti icin tum test\n",
        "#datasinda tahminde bulunuyoruz\n",
        "from keras.saving.save import load_model\n",
        "\n",
        "x=5\n",
        "model = load_model('/content/model_5_64_3x3.h5')\n",
        "\n",
        "predictionResults = model.predict(testX) \n",
        "\n",
        "top_k_values, top_k_indices = tf.nn.top_k(predictionResults, k=x)\n",
        "\n",
        "\n"
      ],
      "metadata": {
        "id": "BO_zAroDwEJT"
      },
      "execution_count": null,
      "outputs": []
    },
    {
      "cell_type": "code",
      "source": [
        "\n",
        "#imgIndex : test Data setinde istenen resme ait index\n",
        "imgIndex = 23\n",
        "plt.imshow(testX[imgIndex])\n",
        "print(\"Prediction : {}\".format(labels[top_k_indices[imgIndex][0]]))\n",
        "print(\"Label : {}\\n\".format(labels[testY[imgIndex][0]]))\n",
        "\n",
        "for x in range(5):\n",
        "\n",
        "  tf.print(\"[{}] : {}%\".format(labels[top_k_indices[imgIndex][x]], top_k_values[imgIndex][x]))"
      ],
      "metadata": {
        "id": "ErhB_ELPyasd"
      },
      "execution_count": null,
      "outputs": []
    }
  ]
}